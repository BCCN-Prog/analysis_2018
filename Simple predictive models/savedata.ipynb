{
 "cells": [
  {
   "cell_type": "code",
   "execution_count": 118,
   "metadata": {
    "collapsed": false
   },
   "outputs": [],
   "source": [
    "import matplotlib.pyplot as plt\n",
    "from datetime import date, timedelta\n",
    "import pandas as pd \n",
    "\n",
    "%matplotlib inline"
   ]
  },
  {
   "cell_type": "code",
   "execution_count": 1,
   "metadata": {
    "collapsed": false
   },
   "outputs": [
    {
     "name": "stdout",
     "output_type": "stream",
     "text": [
      "postgres user password: ········\n"
     ]
    }
   ],
   "source": [
    "import database as db\n",
    "db.set_up_connection(db.db, 'db_weather', user='webscrapers')"
   ]
  },
  {
   "cell_type": "code",
   "execution_count": 2,
   "metadata": {
    "collapsed": false
   },
   "outputs": [],
   "source": [
    "get_ids = db.Station.select(lambda s: 'Berlin' in s.stationsname)\n",
    "ids = db.query_to_dataframe(get_ids)['stations_id']"
   ]
  },
  {
   "cell_type": "code",
   "execution_count": 69,
   "metadata": {
    "collapsed": false
   },
   "outputs": [],
   "source": [
    "id2data = {}\n",
    "for id_i in ids:\n",
    "    get_measures_for_id = db.DailyMeasurement.select(lambda x : x.stations_id == int(id_i))\n",
    "    measures_for_id = db.query_to_dataframe(get_measures_for_id)\n",
    "    id2data[id_i] = measures_for_id"
   ]
  },
  {
   "cell_type": "code",
   "execution_count": 77,
   "metadata": {
    "collapsed": true
   },
   "outputs": [],
   "source": [
    "def find_missing_dates(dates):\n",
    "    dates_list = list(dates)\n",
    "    start, end = dates_list[0], dates_list[-1]\n",
    "    completed_dates = set(start + timedelta(x) for x in range((end - start).days))\n",
    "    missing = set(dates_list) - completed_dates\n",
    "    return sorted(missing)"
   ]
  },
  {
   "cell_type": "code",
   "execution_count": 116,
   "metadata": {
    "collapsed": false
   },
   "outputs": [
    {
     "name": "stdout",
     "output_type": "stream",
     "text": [
      "For station_id = 395 there are no missing days.\n",
      "For station_id = 399 there are no missing days.\n",
      "For station_id = 400 there are no missing days.\n",
      "For station_id = 402 there are no missing days.\n",
      "For station_id = 403 there are no missing days.\n",
      "For station_id = 405 there are no missing days.\n",
      "For station_id = 407 there are no missing days.\n",
      "For station_id = 408 there are no missing days.\n",
      "For station_id = 410 there are no missing days.\n",
      "For station_id = 416 there are no missing days.\n",
      "For station_id = 417 there are no missing days.\n",
      "For station_id = 420 there are no missing days.\n",
      "For station_id = 422 there are no missing days.\n",
      "For station_id = 424 there are no missing days.\n",
      "For station_id = 425 there are no missing days.\n",
      "For station_id = 427 there are no missing days.\n",
      "For station_id = 429 there are no missing days.\n",
      "For station_id = 430 there are no missing days.\n",
      "For station_id = 432 there are no missing days.\n",
      "For station_id = 433 there are no missing days.\n",
      "For station_id = 434 there are no missing days.\n",
      "For station_id = 435 there are no missing days.\n"
     ]
    }
   ],
   "source": [
    "for id_i in ids:\n",
    "    data = id2data[id_i]\n",
    "    misssing = find_missing_dates(data.mess_datum)\n",
    "    if missing:\n",
    "        print(\"For station_id = %d following days are missing:\" % id_i)\n",
    "        print(missing)\n",
    "    else:\n",
    "        print(\"For station_id = %d there are no missing days.\" % id_i)"
   ]
  },
  {
   "cell_type": "code",
   "execution_count": 123,
   "metadata": {
    "collapsed": false
   },
   "outputs": [],
   "source": [
    "def save_data(datadict, path = './data/'):\n",
    "    for id_i in datadict.keys():\n",
    "        name = 'station_' + str(id_i)\n",
    "        full_path = path + name\n",
    "        data = datadict[id_i]\n",
    "        data.to_csv(full_path, sep = ';', columns = data.columns, index = False,)"
   ]
  },
  {
   "cell_type": "code",
   "execution_count": null,
   "metadata": {
    "collapsed": false
   },
   "outputs": [],
   "source": [
    "save_data(id2data)"
   ]
  }
 ],
 "metadata": {
  "kernelspec": {
   "display_name": "Python 3",
   "language": "python",
   "name": "python3"
  },
  "language_info": {
   "codemirror_mode": {
    "name": "ipython",
    "version": 3
   },
   "file_extension": ".py",
   "mimetype": "text/x-python",
   "name": "python",
   "nbconvert_exporter": "python",
   "pygments_lexer": "ipython3",
   "version": "3.5.3"
  }
 },
 "nbformat": 4,
 "nbformat_minor": 2
}
